{
 "cells": [
  {
   "cell_type": "markdown",
   "metadata": {},
   "source": [
    "# Practical assignment on Sparse variational dropout\n",
    "Author of the assignment: Arsenii Ashukha, author of the tutorial: Nadezhda Chirkova\n",
    "\n",
    "- [Link to a tutorial](https://github.com/yandexdataschool/mlhep2019/tree/master/slides/day-4/Bayesian/BNN.pdf)\n",
    "- [Link to a solution](https://github.com/yandexdataschool/mlhep2019/tree/master/notebooks/day-4/Bayesian/SparseVD_solution.ipynb)\n",
    "- Variational Dropout Sparsifies Deep Neural Networks https://arxiv.org/abs/1701.05369\n"
   ]
  },
  {
   "cell_type": "markdown",
   "metadata": {},
   "source": [
    "In this task, we will train SparseVD model for a simple fully-connected network on a MNIST dataset. We will start with a short reminder about training neural networks in PyTorch and then implement necessary functions for SparseVD and incorporate them into model training."
   ]
  },
  {
   "cell_type": "markdown",
   "metadata": {},
   "source": [
    "## Training fully-connected network in pytorch"
   ]
  },
  {
   "cell_type": "code",
   "execution_count": 1,
   "metadata": {
    "colab": {
     "base_uri": "https://localhost:8080/",
     "height": 69,
     "resources": {
      "http://localhost:8080/nbextensions/google.colab/files.js": {
       "data": "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",
       "headers": [
        [
         "content-type",
         "application/javascript"
        ]
       ],
       "ok": true,
       "status": 200,
       "status_text": ""
      }
     }
    },
    "colab_type": "code",
    "collapsed": true,
    "id": "v2hTKqOQwTkB",
    "outputId": "9f9f542b-8c50-4969-b98c-996556c46317"
   },
   "outputs": [],
   "source": [
    "# Logger\n",
    "# if you have problems with this import\n",
    "# check that you are working with python3\n",
    "# and downloaded logger.py file to the folder with this notebook\n",
    "from logger import Logger"
   ]
  },
  {
   "cell_type": "code",
   "execution_count": 2,
   "metadata": {
    "colab": {},
    "colab_type": "code",
    "collapsed": true,
    "id": "ICMEDWnov8HW"
   },
   "outputs": [],
   "source": [
    "import torch\n",
    "import numpy as np\n",
    "\n",
    "import torch.nn as nn\n",
    "import torch.optim as optim\n",
    "import torch.nn.functional as F\n",
    "\n",
    "from logger import Logger\n",
    "from torch.nn import Parameter\n",
    "from torchvision import datasets, transforms"
   ]
  },
  {
   "cell_type": "markdown",
   "metadata": {},
   "source": [
    "Load a dataset:"
   ]
  },
  {
   "cell_type": "code",
   "execution_count": 3,
   "metadata": {
    "colab": {},
    "colab_type": "code",
    "collapsed": true,
    "id": "3fi-O-SFv8Hc"
   },
   "outputs": [],
   "source": [
    "batch_size = 100\n",
    "# define data preprocessing\n",
    "tranform = transforms.Compose([transforms.ToTensor(), \n",
    "                               transforms.Normalize((0.1307,), (0.3081,))])\n",
    "# load train and test datasets and wrap them into loaders (batch generators)\n",
    "train_loader = torch.utils.data.DataLoader(\n",
    "    datasets.MNIST('../data', train=True, download=True,\n",
    "    transform=tranform), batch_size=batch_size, shuffle=True)\n",
    "test_loader = torch.utils.data.DataLoader(\n",
    "    datasets.MNIST('../data', train=False, download=True,\n",
    "    transform=tranform), batch_size=batch_size, shuffle=True)"
   ]
  },
  {
   "cell_type": "markdown",
   "metadata": {},
   "source": [
    "Define a network:"
   ]
  },
  {
   "cell_type": "code",
   "execution_count": 4,
   "metadata": {
    "collapsed": true
   },
   "outputs": [],
   "source": [
    "class Net(nn.Module):\n",
    "    def __init__(self,):\n",
    "        # components of the model\n",
    "        super(Net, self).__init__()\n",
    "        self.fc1 = nn.Linear(28*28, 300)\n",
    "        self.fc2 = nn.Linear(300,  10)\n",
    "\n",
    "    def forward(self, x):\n",
    "        # how to perform forward pass\n",
    "        x = F.relu(self.fc1(x))\n",
    "        x = self.fc2(x)\n",
    "        return x"
   ]
  },
  {
   "cell_type": "code",
   "execution_count": 5,
   "metadata": {
    "collapsed": true
   },
   "outputs": [],
   "source": [
    "# define device\n",
    "device = \"cuda\" if torch.cuda.is_available() else \"cpu\""
   ]
  },
  {
   "cell_type": "code",
   "execution_count": 6,
   "metadata": {
    "collapsed": true
   },
   "outputs": [],
   "source": [
    "# make instance of the Net\n",
    "model = Net().to(device)"
   ]
  },
  {
   "cell_type": "markdown",
   "metadata": {},
   "source": [
    "Define loss:"
   ]
  },
  {
   "cell_type": "code",
   "execution_count": 7,
   "metadata": {
    "collapsed": true
   },
   "outputs": [],
   "source": [
    "lossfun = F.cross_entropy"
   ]
  },
  {
   "cell_type": "markdown",
   "metadata": {},
   "source": [
    "Define optimizer:"
   ]
  },
  {
   "cell_type": "code",
   "execution_count": 8,
   "metadata": {
    "collapsed": true
   },
   "outputs": [],
   "source": [
    "optimizer = optim.Adam(model.parameters(), lr=1e-3)"
   ]
  },
  {
   "cell_type": "markdown",
   "metadata": {},
   "source": [
    "Create logger instance:"
   ]
  },
  {
   "cell_type": "code",
   "execution_count": 9,
   "metadata": {
    "collapsed": true
   },
   "outputs": [],
   "source": [
    "fmt = {'tr_los': '3.1e', 'te_loss': '3.1e'}\n",
    "logger = Logger('fc_net', fmt=fmt)"
   ]
  },
  {
   "cell_type": "markdown",
   "metadata": {},
   "source": [
    "Define device and training procedure:"
   ]
  },
  {
   "cell_type": "code",
   "execution_count": 10,
   "metadata": {
    "collapsed": true
   },
   "outputs": [],
   "source": [
    "def train(train_loader, test_loader, model, lossfun, logger, device,\n",
    "          optimizer, scheduler=None, epochs = 100, sparse=False):\n",
    "    # we will need it for sparsification\n",
    "    if sparse:\n",
    "        kl_weight = 0.02\n",
    "\n",
    "    for epoch in range(1, epochs + 1):\n",
    "        # we will need it for sparsification\n",
    "        if sparse:\n",
    "            kl_weight = min(kl_weight+0.02, 1)\n",
    "            logger.add_scalar(epoch, 'kl', kl_weight)\n",
    "            lossfun.kl_weight = kl_weight\n",
    "        if scheduler is not None:\n",
    "            scheduler.step()\n",
    "            logger.add_scalar(epoch, 'lr', scheduler.get_lr()[0])\n",
    "        \n",
    "        ### iterate over training batches, perform forward and backward pass and count metrics\n",
    "        model.train()\n",
    "        train_loss, train_acc = 0, 0 \n",
    "        for batch_idx, (data, target) in enumerate(train_loader):\n",
    "            data, target = data.to(device), target.to(device)\n",
    "            data = data.view(-1, 28*28)\n",
    "            optimizer.zero_grad()\n",
    "\n",
    "            output = model(data)\n",
    "            pred = output.data.max(1)[1] \n",
    "            loss = lossfun(output, target)\n",
    "            loss.backward()\n",
    "            optimizer.step()\n",
    "\n",
    "            train_loss += loss \n",
    "            train_acc += np.sum(pred.cpu().numpy() == target.data.cpu().numpy())\n",
    "\n",
    "        logger.add_scalar(epoch, 'tr_los', train_loss / len(train_loader.dataset))\n",
    "        logger.add_scalar(epoch, 'tr_acc', train_acc / len(train_loader.dataset) * 100)\n",
    "        \n",
    "        ### iterate over testing batches, perform forward pass and count metrics\n",
    "        model.eval()\n",
    "        test_loss, test_acc = 0, 0\n",
    "        for batch_idx, (data, target) in enumerate(test_loader):\n",
    "            data, target = data.to(device), target.to(device)\n",
    "            data = data.view(-1, 28*28)\n",
    "            output = model(data)\n",
    "            test_loss += float(lossfun(output, target))\n",
    "            pred = output.data.max(1)[1] \n",
    "            test_acc += np.sum(pred.cpu().numpy() == target.data.cpu().numpy())\n",
    "\n",
    "        logger.add_scalar(epoch, 'te_loss', test_loss / len(test_loader.dataset))\n",
    "        logger.add_scalar(epoch, 'te_acc', test_acc / len(test_loader.dataset) * 100)\n",
    "        \n",
    "        if sparse:\n",
    "            for i, c in enumerate(model.children()):\n",
    "                if hasattr(c, 'kl_reg'):\n",
    "                    logger.add_scalar(epoch, 'sp_%s' % i, (c.log_alpha.data.cpu().numpy() > model.threshold).mean())\n",
    "\n",
    "        logger.iter_info()"
   ]
  },
  {
   "cell_type": "code",
   "execution_count": 11,
   "metadata": {},
   "outputs": [
    {
     "name": "stdout",
     "output_type": "stream",
     "text": [
      "  epoch    tr_los    tr_acc    te_loss    te_acc\n",
      "-------  --------  --------  ---------  --------\n",
      "      1   2.4e-03      93.0    1.6e-03      95.3\n",
      "      2   9.7e-04      97.1    8.3e-04      97.5\n",
      "      3   6.6e-04      97.9    8.1e-04      97.4\n",
      "      4   4.6e-04      98.5    8.2e-04      97.5\n",
      "      5   3.6e-04      98.9    7.3e-04      97.7\n",
      "      6   2.8e-04      99.1    6.9e-04      97.8\n",
      "      7   2.1e-04      99.3    8.1e-04      97.7\n",
      "      8   1.9e-04      99.4    7.7e-04      97.9\n",
      "      9   1.5e-04      99.5    8.0e-04      98.0\n",
      "     10   1.5e-04      99.5    9.5e-04      97.4\n",
      "     11   1.7e-04      99.4    9.0e-04      97.9\n",
      "     12   9.9e-05      99.7    7.7e-04      98.1\n",
      "     13   9.8e-05      99.7    8.7e-04      98.1\n",
      "     14   1.0e-04      99.6    1.0e-03      97.6\n",
      "     15   1.1e-04      99.6    9.1e-04      97.9\n",
      "     16   9.1e-05      99.7    1.2e-03      97.4\n",
      "     17   9.1e-05      99.7    1.1e-03      97.9\n",
      "     18   8.0e-05      99.7    1.1e-03      98.1\n",
      "     19   8.5e-05      99.7    1.0e-03      98.0\n",
      "     20   8.8e-05      99.7    1.2e-03      97.9\n"
     ]
    }
   ],
   "source": [
    "train(train_loader, test_loader, model, lossfun, logger, device,\n",
    "          optimizer, scheduler=None, epochs = 20, sparse=False)"
   ]
  },
  {
   "cell_type": "markdown",
   "metadata": {},
   "source": [
    "## Pytorch cheatsheet"
   ]
  },
  {
   "cell_type": "markdown",
   "metadata": {},
   "source": [
    "* Main entity in pytorch is a tensor. It can be stored either on cpu or gpu\n",
    "* Use x.cpu() and x.gpu() to switch between devices\n",
    "* Type convertation work in the same way, for example x.float()\n",
    "* Get shape: x.shape, change shape: x.reshape(...)\n",
    "* To create a new empty tensor on the same device as x and with the same shape use .new: y = x.new(x.shape)\n",
    "* Matrix multiplication: A.dot(B)\n",
    "* Element-wise operations: +, -, *, /, torch.sqrt, torch.abs, torch.exp, torch.log, < , >\n",
    "* Fill tensor x with some values: x.fill\\_(5), x.zero\\_(), x.ones\\_(), x.normal\\_()\n",
    "* Clip tensor x so that values are between A and B: torch.clamp(x, A, B)\n",
    "* If you want some tensor to be trained, wrap it in nn.Parameter: p = nn.Parameter(x). You can access tensor using p.data"
   ]
  },
  {
   "cell_type": "markdown",
   "metadata": {
    "colab_type": "text",
    "id": "etUt8t6gv8HK"
   },
   "source": [
    "## Sparse Variational Dropout"
   ]
  },
  {
   "cell_type": "markdown",
   "metadata": {
    "colab_type": "text",
    "id": "ARGe2QLxgZPd"
   },
   "source": [
    "![image with formulas 1](https://github.com/nadiinchi/BayesianSparsificationTutorial/raw/master/images/slide1.png)\n",
    "![image with formulas 2](https://github.com/nadiinchi/BayesianSparsificationTutorial/raw/master/images/slide2.png)\n",
    "\n"
   ]
  },
  {
   "cell_type": "markdown",
   "metadata": {},
   "source": [
    "## Implementation of SparseVD"
   ]
  },
  {
   "cell_type": "markdown",
   "metadata": {},
   "source": [
    "To implement SparseVD, we need to modify two items:\n",
    "* fully-connected layer\n",
    "* loss"
   ]
  },
  {
   "cell_type": "markdown",
   "metadata": {},
   "source": [
    "You need to implement LinearSVDO layer that is inserted into the Net instead of nn.Linear:"
   ]
  },
  {
   "cell_type": "code",
   "execution_count": 12,
   "metadata": {
    "colab": {},
    "colab_type": "code",
    "collapsed": true,
    "id": "7QBxYnoAmzuL"
   },
   "outputs": [],
   "source": [
    "class NetSVDO(nn.Module):\n",
    "    def __init__(self, threshold, use_lrt=False):\n",
    "        super(NetSVDO, self).__init__()\n",
    "        self.fc1 = LinearSVDO(28*28, 300, threshold, use_lrt) ### instead of nn.Linear\n",
    "        self.fc2 = LinearSVDO(300,  10, threshold, use_lrt) ### instead of nn.Linear\n",
    "        self.threshold = threshold\n",
    "\n",
    "    def forward(self, x):\n",
    "        x = F.relu(self.fc1(x))\n",
    "        x = self.fc2(x)\n",
    "        return x"
   ]
  },
  {
   "cell_type": "markdown",
   "metadata": {},
   "source": [
    "Implement the layer:"
   ]
  },
  {
   "cell_type": "code",
   "execution_count": 13,
   "metadata": {
    "colab": {
     "base_uri": "https://localhost:8080/",
     "height": 129
    },
    "colab_type": "code",
    "collapsed": true,
    "id": "KcEIF5_kv8HY",
    "outputId": "61dfa05d-3131-4744-dfd6-0f9c92ce806d"
   },
   "outputs": [],
   "source": [
    "class LinearSVDO(nn.Module):\n",
    "    def __init__(self, in_features, out_features, threshold, bias=True, use_lrt=False):\n",
    "        ### hyperparameters\n",
    "        super(LinearSVDO, self).__init__()\n",
    "        self.in_features = in_features\n",
    "        self.out_features = out_features\n",
    "        self.threshold = threshold\n",
    "\n",
    "        self.mu = Parameter(torch.Tensor(out_features, in_features))\n",
    "        ###########################################################\n",
    "        ########         You Code should be here         ##########\n",
    "        # Create a Parameter to store log sigma\n",
    "        self.log_sigma = Parameter(torch.Tensor(out_features, in_features))\n",
    "        ###########################################################\n",
    "        self.bias = Parameter(torch.Tensor(1, out_features))\n",
    "        \n",
    "        self.reset_parameters()\n",
    "        \n",
    "        self.use_lrt = use_lrt\n",
    "\n",
    "    def reset_parameters(self):\n",
    "        self.bias.data.zero_()\n",
    "        self.mu.data.normal_(0, 0.02)\n",
    "        self.log_sigma.data.fill_(-5)        \n",
    "        \n",
    "    def forward(self, x): \n",
    "        # On training stage, we sample weights\n",
    "        # On testing stage, we zero out weights and perform forward pass with mean weights\n",
    "        ###########################################################\n",
    "        ########         You Code should be here         ##########\n",
    "        if self.training:\n",
    "            if not self.use_lrt:\n",
    "                # sample weights from normal distribution using reparametrization trick\n",
    "                W = self.mu + self.mu.data.new(self.mu.data.shape).normal_() \\\n",
    "                * torch.exp(self.log_sigma)\n",
    "                return F.linear(x, W) + self.bias\n",
    "            else:\n",
    "                # implement LRT later is you have time\n",
    "                # pass\n",
    "                lrt_mean = F.linear(x, self.mu) + self.bias # Compute activation's mean. Do not forget about bias!\n",
    "                lrt_std = torch.sqrt(F.linear(x * x, torch.exp(self.log_sigma * 2.0)) + 1e-8)  # Compute activation's var. Do not forget to add 1e-9 before sqrt!\n",
    "                eps = lrt_std.data.new(lrt_std.size()).normal_() # sample random noise. Use <some existing tensor>.new function\n",
    "                return lrt_mean + lrt_std * eps\n",
    "        else:\n",
    "            ########         If not training        ##########\n",
    "            self.log_alpha = self.log_sigma * 2.0 - 2.0 * torch.log(1e-16 + torch.abs(self.mu)) # Eval log alpha as a function(log_sigma, W)\n",
    "            # Do not forget to add 1e-15 before log for numerical stability\n",
    "            self.log_alpha = torch.clamp(self.log_alpha, -10, 10) # Clip log alpha to be in [-10, 10] for numerical stability \n",
    "            W = self.mu * (self.log_alpha < self.threshold).float() # Prune out redundant wights \n",
    "            return F.linear(x, W) + self.bias\n",
    "            ###########################################################\n",
    "        \n",
    "    def kl_reg(self):\n",
    "        ###########################################################\n",
    "        ########         You Code should be here         ##########\n",
    "        ########  Eval Approximation of KL Divergence    ##########\n",
    "        # use torch.log1p for numerical stability. You can also use torch.sigmoid\n",
    "        log_alpha = self.log_sigma * 2.0 - 2.0 * torch.log(1e-16 + torch.abs(self.mu)) # Eval log alpha as a function(log_sigma, W)\n",
    "        log_alpha = torch.clamp(log_alpha, -10, 10)# Clip log alpha to be in [-10, 10] for numerical suability \n",
    "        k1, k2, k3 = self.mu.data.new_tensor(1).fill_(0.63576), \\\n",
    "                     self.mu.data.new_tensor(1).fill_(1.8732), \\\n",
    "                     self.mu.data.new_tensor(1).fill_(1.48695)\n",
    "        kl = k1 * torch.sigmoid(k2 + k3 * log_alpha) - 0.5 * torch.log1p(torch.exp(-log_alpha))\n",
    "        KL  = - torch.sum(kl)\n",
    "        return KL \n",
    "        ########  Return a KL divergence, a Tensor 1x1   ##########\n",
    "        ###########################################################    "
   ]
  },
  {
   "cell_type": "code",
   "execution_count": 14,
   "metadata": {
    "collapsed": true
   },
   "outputs": [],
   "source": [
    "# make instance of the Net\n",
    "model = NetSVDO(threshold=3, use_lrt=False).to(device)"
   ]
  },
  {
   "cell_type": "markdown",
   "metadata": {},
   "source": [
    "Implement ELBO (loss):"
   ]
  },
  {
   "cell_type": "code",
   "execution_count": 15,
   "metadata": {
    "colab": {},
    "colab_type": "code",
    "collapsed": true,
    "id": "4oGOpuEsv8He"
   },
   "outputs": [],
   "source": [
    "# Define a new Loss Function -- SGVLB \n",
    "class SGVLB(nn.Module):\n",
    "    def __init__(self, net, train_size):\n",
    "        super(SGVLB, self).__init__()\n",
    "        self.train_size = train_size\n",
    "        self.net = net\n",
    "        self.kl_weight = 1.0\n",
    "\n",
    "    def forward(self, input, target):\n",
    "        assert not target.requires_grad\n",
    "        kl = 0\n",
    "        for module in self.net.children():\n",
    "            if hasattr(module, 'kl_reg'):\n",
    "                kl = kl + module.kl_reg()\n",
    "        ###########################################################\n",
    "        ########         You Code should be here         ##########    \n",
    "        # Estimate Variational Lower Bound\n",
    "        # Hint: you will need F.cross_entropy\n",
    "        # Do not forget to scale up Data term to N/M,\n",
    "        # where N is a size of the dataset and M is a size of minibatch\n",
    "        # Remember that F.cross_entropy returns loss averaged accross data points\n",
    "        SGVLB = F.cross_entropy(input, target) * self.train_size + self.kl_weight * kl\n",
    "        return SGVLB # a Tensor 1x1 \n",
    "        ###########################################################"
   ]
  },
  {
   "cell_type": "code",
   "execution_count": 16,
   "metadata": {
    "collapsed": true
   },
   "outputs": [],
   "source": [
    "sgvlbloss = SGVLB(model, len(train_loader.dataset)).to(device)"
   ]
  },
  {
   "cell_type": "markdown",
   "metadata": {},
   "source": [
    "## Training SparseVD model"
   ]
  },
  {
   "cell_type": "markdown",
   "metadata": {},
   "source": [
    "Define optimizer for a new model and create a new logger:"
   ]
  },
  {
   "cell_type": "code",
   "execution_count": 17,
   "metadata": {
    "collapsed": true
   },
   "outputs": [],
   "source": [
    "optimizer = optim.Adam(model.parameters(), lr=1e-3)\n",
    "scheduler = torch.optim.lr_scheduler.MultiStepLR(optimizer, milestones=[50,60,70,80], gamma=0.2)\n",
    "fmt = {'tr_los': '3.1e', 'te_loss': '3.1e', 'sp_0': '.3f', 'sp_1': '.3f', 'lr': '3.1e', 'kl': '.2f'}\n",
    "logger = Logger('sparse_vd', fmt=fmt)"
   ]
  },
  {
   "cell_type": "markdown",
   "metadata": {},
   "source": [
    "Train SparseVD model:"
   ]
  },
  {
   "cell_type": "code",
   "execution_count": 18,
   "metadata": {},
   "outputs": [
    {
     "name": "stdout",
     "output_type": "stream",
     "text": [
      "  epoch    kl       lr    tr_los    tr_acc    te_loss    te_acc    sp_0    sp_1\n",
      "-------  ----  -------  --------  --------  ---------  --------  ------  ------\n",
      "      1  0.04  1.0e-03   1.8e+02      92.1    8.1e+01      96.2   0.328   0.038\n",
      "      2  0.06  1.0e-03   5.1e+01      96.6    3.2e+01      97.1   0.445   0.049\n",
      "      3  0.08  1.0e-03   4.3e+00      97.6   -5.8e+00      97.6   0.510   0.071\n",
      "      4  0.10  1.0e-03  -3.4e+01      97.9   -4.1e+01      97.8   0.586   0.101\n",
      "      5  0.12  1.0e-03  -6.9e+01      98.3   -6.8e+01      98.0   0.576   0.126\n",
      "      6  0.14  1.0e-03  -1.0e+02      98.4   -9.9e+01      98.0   0.643   0.191\n",
      "      7  0.16  1.0e-03  -1.4e+02      98.5   -1.3e+02      97.9   0.659   0.226\n",
      "      8  0.18  1.0e-03  -1.7e+02      98.7   -1.7e+02      98.2   0.728   0.292\n",
      "      9  0.20  1.0e-03  -2.0e+02      98.6   -1.9e+02      98.1   0.726   0.325\n",
      "     10  0.22  1.0e-03  -2.3e+02      98.8   -2.2e+02      98.0   0.756   0.348\n",
      "     11  0.24  1.0e-03  -2.7e+02      98.9   -2.6e+02      98.1   0.784   0.394\n",
      "     12  0.26  1.0e-03  -3.0e+02      98.9   -2.8e+02      97.9   0.761   0.379\n",
      "     13  0.28  1.0e-03  -3.3e+02      98.9   -3.2e+02      98.3   0.787   0.408\n",
      "     14  0.30  1.0e-03  -3.6e+02      99.0   -3.5e+02      98.2   0.806   0.424\n",
      "     15  0.32  1.0e-03  -3.9e+02      99.0   -3.7e+02      98.4   0.812   0.446\n",
      "     16  0.34  1.0e-03  -4.2e+02      98.9   -4.1e+02      98.2   0.826   0.469\n",
      "     17  0.36  1.0e-03  -4.5e+02      99.0   -4.4e+02      98.1   0.825   0.450\n",
      "     18  0.38  1.0e-03  -4.8e+02      98.9   -4.6e+02      98.1   0.811   0.429\n",
      "     19  0.40  1.0e-03  -5.1e+02      99.0   -5.0e+02      98.2   0.831   0.473\n",
      "     20  0.42  1.0e-03  -5.4e+02      98.9   -5.3e+02      98.3   0.845   0.468\n",
      "     21  0.44  1.0e-03  -5.7e+02      99.0   -5.6e+02      98.2   0.837   0.473\n",
      "     22  0.46  1.0e-03  -6.0e+02      98.9   -5.9e+02      98.2   0.844   0.472\n",
      "     23  0.48  1.0e-03  -6.3e+02      98.9   -6.2e+02      98.2   0.860   0.508\n",
      "     24  0.50  1.0e-03  -6.6e+02      98.9   -6.5e+02      98.4   0.876   0.508\n",
      "     25  0.52  1.0e-03  -7.0e+02      99.0   -6.8e+02      98.2   0.858   0.510\n",
      "     26  0.54  1.0e-03  -7.2e+02      98.9   -7.1e+02      98.1   0.876   0.555\n",
      "     27  0.56  1.0e-03  -7.5e+02      98.8   -7.4e+02      98.2   0.869   0.534\n",
      "     28  0.58  1.0e-03  -7.9e+02      98.9   -7.7e+02      98.1   0.864   0.496\n",
      "     29  0.60  1.0e-03  -8.1e+02      98.8   -7.9e+02      98.1   0.845   0.496\n",
      "     30  0.62  1.0e-03  -8.4e+02      98.9   -8.3e+02      98.1   0.882   0.531\n",
      "     31  0.64  1.0e-03  -8.8e+02      98.9   -8.6e+02      98.3   0.870   0.512\n",
      "     32  0.66  1.0e-03  -9.0e+02      98.7   -8.9e+02      98.2   0.892   0.535\n",
      "     33  0.68  1.0e-03  -9.3e+02      98.8   -9.1e+02      98.0   0.867   0.506\n",
      "     34  0.70  1.0e-03  -9.6e+02      98.7   -9.5e+02      98.3   0.894   0.571\n",
      "     35  0.72  1.0e-03  -9.9e+02      98.8   -9.8e+02      98.2   0.897   0.554\n",
      "     36  0.74  1.0e-03  -1.0e+03      98.8   -1.0e+03      98.3   0.885   0.546\n",
      "     37  0.76  1.0e-03  -1.1e+03      98.8   -1.0e+03      98.2   0.902   0.569\n",
      "     38  0.78  1.0e-03  -1.1e+03      98.7   -1.1e+03      98.2   0.894   0.553\n",
      "     39  0.80  1.0e-03  -1.1e+03      98.7   -1.1e+03      98.1   0.877   0.559\n",
      "     40  0.82  1.0e-03  -1.1e+03      98.6   -1.1e+03      98.2   0.904   0.572\n",
      "     41  0.84  1.0e-03  -1.2e+03      98.6   -1.2e+03      98.0   0.887   0.538\n",
      "     42  0.86  1.0e-03  -1.2e+03      98.6   -1.2e+03      98.0   0.864   0.541\n",
      "     43  0.88  1.0e-03  -1.2e+03      98.5   -1.2e+03      98.1   0.906   0.593\n",
      "     44  0.90  1.0e-03  -1.3e+03      98.6   -1.2e+03      98.0   0.906   0.581\n",
      "     45  0.92  1.0e-03  -1.3e+03      98.6   -1.3e+03      98.0   0.896   0.546\n",
      "     46  0.94  1.0e-03  -1.3e+03      98.5   -1.3e+03      98.0   0.898   0.550\n",
      "     47  0.96  1.0e-03  -1.4e+03      98.5   -1.3e+03      97.9   0.886   0.535\n",
      "     48  0.98  1.0e-03  -1.4e+03      98.5   -1.4e+03      98.1   0.905   0.599\n",
      "     49     1  1.0e-03  -1.4e+03      98.5   -1.4e+03      98.1   0.909   0.567\n",
      "     50     1  1.0e-03  -1.4e+03      98.5   -1.4e+03      98.0   0.910   0.573\n",
      "     51     1  2.0e-04  -1.4e+03      99.0   -1.4e+03      98.2   0.982   0.760\n",
      "     52     1  2.0e-04  -1.4e+03      98.9   -1.4e+03      98.2   0.982   0.755\n",
      "     53     1  2.0e-04  -1.4e+03      98.9   -1.4e+03      98.2   0.981   0.760\n",
      "     54     1  2.0e-04  -1.4e+03      99.0   -1.4e+03      98.2   0.983   0.768\n",
      "     55     1  2.0e-04  -1.4e+03      98.9   -1.4e+03      98.2   0.981   0.768\n",
      "     56     1  2.0e-04  -1.4e+03      98.9   -1.4e+03      98.2   0.980   0.762\n",
      "     57     1  2.0e-04  -1.4e+03      98.9   -1.4e+03      98.1   0.981   0.758\n",
      "     58     1  2.0e-04  -1.4e+03      98.9   -1.4e+03      98.2   0.981   0.761\n",
      "     59     1  2.0e-04  -1.4e+03      98.9   -1.4e+03      98.2   0.981   0.754\n",
      "     60     1  2.0e-04  -1.4e+03      98.9   -1.4e+03      98.2   0.981   0.765\n",
      "     61     1  4.0e-05  -1.4e+03      99.0   -1.4e+03      98.2   0.985   0.783\n",
      "     62     1  4.0e-05  -1.4e+03      99.0   -1.4e+03      98.2   0.986   0.785\n",
      "     63     1  4.0e-05  -1.4e+03      99.0   -1.4e+03      98.2   0.986   0.787\n",
      "     64     1  4.0e-05  -1.4e+03      99.0   -1.4e+03      98.2   0.986   0.788\n",
      "     65     1  4.0e-05  -1.4e+03      99.0   -1.4e+03      98.2   0.986   0.788\n",
      "     66     1  4.0e-05  -1.4e+03      99.0   -1.4e+03      98.2   0.986   0.789\n",
      "     67     1  4.0e-05  -1.4e+03      99.0   -1.4e+03      98.2   0.986   0.790\n",
      "     68     1  4.0e-05  -1.4e+03      99.0   -1.4e+03      98.2   0.986   0.787\n",
      "     69     1  4.0e-05  -1.4e+03      99.0   -1.4e+03      98.2   0.986   0.790\n",
      "     70     1  4.0e-05  -1.4e+03      99.0   -1.4e+03      98.2   0.986   0.792\n",
      "     71     1  8.0e-06  -1.4e+03      99.1   -1.4e+03      98.2   0.986   0.793\n",
      "     72     1  8.0e-06  -1.4e+03      99.0   -1.4e+03      98.2   0.986   0.792\n",
      "     73     1  8.0e-06  -1.4e+03      99.0   -1.4e+03      98.2   0.986   0.793\n",
      "     74     1  8.0e-06  -1.4e+03      99.0   -1.4e+03      98.2   0.986   0.794\n",
      "     75     1  8.0e-06  -1.4e+03      99.0   -1.4e+03      98.2   0.987   0.794\n",
      "     76     1  8.0e-06  -1.4e+03      99.1   -1.4e+03      98.2   0.987   0.793\n",
      "     77     1  8.0e-06  -1.4e+03      99.0   -1.4e+03      98.2   0.987   0.794\n",
      "     78     1  8.0e-06  -1.4e+03      98.9   -1.4e+03      98.2   0.987   0.794\n",
      "     79     1  8.0e-06  -1.4e+03      99.0   -1.4e+03      98.2   0.987   0.793\n",
      "     80     1  8.0e-06  -1.4e+03      99.0   -1.4e+03      98.2   0.987   0.793\n",
      "     81     1  1.6e-06  -1.4e+03      99.1   -1.4e+03      98.2   0.987   0.794\n",
      "     82     1  1.6e-06  -1.4e+03      99.1   -1.4e+03      98.2   0.987   0.794\n",
      "     83     1  1.6e-06  -1.4e+03      99.0   -1.4e+03      98.2   0.987   0.794\n",
      "     84     1  1.6e-06  -1.4e+03      99.0   -1.4e+03      98.2   0.987   0.794\n",
      "     85     1  1.6e-06  -1.4e+03      99.0   -1.4e+03      98.2   0.987   0.794\n",
      "     86     1  1.6e-06  -1.4e+03      99.0   -1.4e+03      98.2   0.987   0.794\n",
      "     87     1  1.6e-06  -1.4e+03      99.0   -1.4e+03      98.2   0.987   0.794\n",
      "     88     1  1.6e-06  -1.4e+03      99.0   -1.4e+03      98.2   0.987   0.793\n",
      "     89     1  1.6e-06  -1.4e+03      99.1   -1.4e+03      98.2   0.987   0.794\n",
      "     90     1  1.6e-06  -1.4e+03      99.1   -1.4e+03      98.2   0.987   0.794\n",
      "     91     1  1.6e-06  -1.4e+03      99.0   -1.4e+03      98.2   0.987   0.794\n",
      "     92     1  1.6e-06  -1.4e+03      99.0   -1.4e+03      98.2   0.987   0.794\n",
      "     93     1  1.6e-06  -1.4e+03      99.1   -1.4e+03      98.2   0.987   0.794\n",
      "     94     1  1.6e-06  -1.4e+03      99.1   -1.4e+03      98.2   0.987   0.795\n",
      "     95     1  1.6e-06  -1.4e+03      99.0   -1.4e+03      98.2   0.987   0.795\n",
      "     96     1  1.6e-06  -1.4e+03      99.0   -1.4e+03      98.2   0.987   0.795\n",
      "     97     1  1.6e-06  -1.4e+03      99.0   -1.4e+03      98.2   0.987   0.795\n",
      "     98     1  1.6e-06  -1.4e+03      99.0   -1.4e+03      98.2   0.987   0.795\n",
      "     99     1  1.6e-06  -1.4e+03      99.0   -1.4e+03      98.2   0.987   0.795\n",
      "    100     1  1.6e-06  -1.4e+03      99.0   -1.4e+03      98.2   0.987   0.795\n"
     ]
    }
   ],
   "source": [
    "train(train_loader, test_loader, model, sgvlbloss, logger, device,\n",
    "    optimizer, scheduler=scheduler, epochs = 100, sparse=True)"
   ]
  },
  {
   "cell_type": "markdown",
   "metadata": {},
   "source": [
    "Compute compression rate:"
   ]
  },
  {
   "cell_type": "code",
   "execution_count": 19,
   "metadata": {
    "colab": {},
    "colab_type": "code",
    "id": "UQVizuLov8Hu"
   },
   "outputs": [
    {
     "name": "stdout",
     "output_type": "stream",
     "text": [
      "kept weight ratio = 63.11605723370429\n"
     ]
    }
   ],
   "source": [
    "all_w, kep_w = 0, 0\n",
    "\n",
    "for c in model.children():\n",
    "    kep_w += (c.log_alpha.data.cpu().numpy() < model.threshold).sum()\n",
    "    all_w += c.log_alpha.data.cpu().numpy().size\n",
    "\n",
    "print('kept weight ratio =', all_w/kep_w)"
   ]
  },
  {
   "cell_type": "markdown",
   "metadata": {
    "colab_type": "text",
    "id": "FNMUWDjtJgd-"
   },
   "source": [
    "    # Good result should be like \n",
    "    #   epoch    kl       lr    tr_los    tr_acc    te_loss    te_acc    sp_0    sp_1\n",
    "    #  -------  ----  -------  --------  --------  ---------  --------  ------  ------\n",
    "    #      100     1  1.6e-06  -1.4e+03      99.0   -1.4e+03      98.2   0.986   0.787\n",
    "    # kept weight ratio = 61.29696345856922"
   ]
  },
  {
   "cell_type": "markdown",
   "metadata": {},
   "source": [
    "## Visualization"
   ]
  },
  {
   "cell_type": "markdown",
   "metadata": {},
   "source": [
    "Visualize part of the sparsified weight matrix:"
   ]
  },
  {
   "cell_type": "code",
   "execution_count": 20,
   "metadata": {},
   "outputs": [
    {
     "data": {
      "text/plain": [
       "Text(0.5,1,'Part of the weight matrix of the 1st layer')"
      ]
     },
     "execution_count": 20,
     "metadata": {},
     "output_type": "execute_result"
    },
    {
     "data": {
      "image/png": "[encoded data removed]",
      "text/plain": [
       "<Figure size 1440x720 with 2 Axes>"
      ]
     },
     "metadata": {
      "needs_background": "light"
     },
     "output_type": "display_data"
    }
   ],
   "source": [
    "import matplotlib.pyplot as plt\n",
    "%matplotlib inline\n",
    "\n",
    "# mask zero weights\n",
    "log_alpha = (model.fc1.log_alpha.detach().cpu().numpy() < model.threshold).astype(np.float)\n",
    "W = model.fc1.mu.detach().cpu().numpy()\n",
    "\n",
    "# visualize part of the matrix\n",
    "plt.figure(figsize=(20, 10))\n",
    "plt.imshow((log_alpha * W)[:, 200:400], cmap='RdBu_r', interpolation=None)\n",
    "plt.colorbar()\n",
    "plt.title(\"Part of the weight matrix of the 1st layer\")"
   ]
  },
  {
   "cell_type": "markdown",
   "metadata": {},
   "source": [
    "Visualize sparsified weights reshaped to the image shape:"
   ]
  },
  {
   "cell_type": "code",
   "execution_count": 21,
   "metadata": {},
   "outputs": [
    {
     "data": {
      "text/plain": [
       "Text(0.5,1,'Weights reshaped to the image shape')"
      ]
     },
     "execution_count": 21,
     "metadata": {},
     "output_type": "execute_result"
    },
    {
     "data": {
      "image/png": "[encoded data removed]",
      "text/plain": [
       "<Figure size 1440x720 with 2 Axes>"
      ]
     },
     "metadata": {
      "needs_background": "light"
     },
     "output_type": "display_data"
    }
   ],
   "source": [
    "s = 0\n",
    "\n",
    "z = np.zeros((28*10, 28*10))\n",
    "\n",
    "for i in range(10):\n",
    "    for j in range(10):\n",
    "        s += 1\n",
    "        z[i*28:(i+1)*28, j*28:(j+1)*28] =  np.abs((log_alpha * W)[s].reshape(28, 28))\n",
    "        \n",
    "z[::28] = 2\n",
    "z[:, ::28] = 2\n",
    "z[-1] = 2\n",
    "z[:, -1] = 2\n",
    "      \n",
    "plt.figure(figsize=(20, 10))\n",
    "plt.imshow(z, cmap='hot_r')\n",
    "plt.colorbar()\n",
    "plt.axis('off')\n",
    "plt.title(\"Weights reshaped to the image shape\")"
   ]
  },
  {
   "cell_type": "markdown",
   "metadata": {},
   "source": [
    "Visualize $\\log |\\mu|$ and $\\log \\sigma$ of the weights (do it yourself):"
   ]
  },
  {
   "cell_type": "code",
   "execution_count": 22,
   "metadata": {},
   "outputs": [
    {
     "data": {
      "text/plain": [
       "[<matplotlib.lines.Line2D at 0x2ab742081c18>]"
      ]
     },
     "execution_count": 22,
     "metadata": {},
     "output_type": "execute_result"
    },
    {
     "data": {
      "image/png": "[encoded data removed]",
      "text/plain": [
       "<Figure size 432x288 with 1 Axes>"
      ]
     },
     "metadata": {
      "needs_background": "light"
     },
     "output_type": "display_data"
    }
   ],
   "source": [
    "###########################################################\n",
    "########         You Code should be here         ##########    \n",
    "# Choose a submatrix of the weight matrix of the 1-st FC layer (about 100 x 100 elements)\n",
    "# Scatter their log abs mu and log sigma (use plt.scatter)\n",
    "\n",
    "plt.scatter(np.log(np.abs(model.fc1.mu.data.cpu().numpy()))[100:200, 100:200].ravel(),\\\n",
    "            model.fc1.log_sigma.data.cpu().numpy()[100:200, 100:200].ravel(),\\\n",
    "           alpha=0.5)\n",
    "plt.xlabel(\"$\\log \\,|\\mu|$\", fontsize=20)\n",
    "plt.ylabel(\"$\\log \\,\\sigma$\", fontsize=20)\n",
    "\n",
    "ms = np.linspace(-7, -0.5, 100)\n",
    "plt.plot(ms, ms+1.5, color=\"black\")\n",
    "###########################################################"
   ]
  },
  {
   "cell_type": "markdown",
   "metadata": {},
   "source": [
    "## Compression with Sparse Matrixes"
   ]
  },
  {
   "cell_type": "markdown",
   "metadata": {},
   "source": [
    "Let's check how efficient is weight compression using sparse matrix formats:"
   ]
  },
  {
   "cell_type": "code",
   "execution_count": 23,
   "metadata": {
    "colab": {},
    "colab_type": "code",
    "collapsed": true,
    "id": "3wnL7Hp9v8Hy"
   },
   "outputs": [],
   "source": [
    "import scipy\n",
    "import numpy as np\n",
    "from scipy.sparse import csc_matrix, csc_matrix, coo_matrix, dok_matrix\n",
    "\n",
    "row, col, data = [], [], []\n",
    "M = list(model.children())[0].mu.data.cpu().numpy()\n",
    "LA = list(model.children())[0].log_alpha.data.cpu().numpy()\n",
    "\n",
    "for i in range(300):\n",
    "    for j in range(28*28):\n",
    "        if LA[i, j] < 3:\n",
    "            row += [i]\n",
    "            col += [j]\n",
    "            data += [M[i, j]]\n",
    "\n",
    "Mcsr = csc_matrix((data, (row, col)), shape=(300, 28*28))\n",
    "Mcsc = csc_matrix((data, (row, col)), shape=(300, 28*28))\n",
    "Mcoo = coo_matrix((data, (row, col)), shape=(300, 28*28))"
   ]
  },
  {
   "cell_type": "code",
   "execution_count": 24,
   "metadata": {
    "colab": {},
    "colab_type": "code",
    "collapsed": true,
    "id": "e4T8E4Miv8H0"
   },
   "outputs": [],
   "source": [
    "np.savez_compressed('M_w', M)\n",
    "scipy.sparse.save_npz('Mcsr_w', Mcsr)\n",
    "scipy.sparse.save_npz('Mcsc_w', Mcsc)\n",
    "scipy.sparse.save_npz('Mcoo_w', Mcoo)"
   ]
  },
  {
   "cell_type": "code",
   "execution_count": 25,
   "metadata": {
    "colab": {},
    "colab_type": "code",
    "id": "QebP7_Emv8H2"
   },
   "outputs": [
    {
     "name": "stdout",
     "output_type": "stream",
     "text": [
      "-rw-r--r-- 1 nadiinchi U_HSE  18K Jul  4 10:24 Mcoo_w.npz\r\n",
      "-rw-r--r-- 1 nadiinchi U_HSE  17K Jul  4 10:24 Mcsc_w.npz\r\n",
      "-rw-r--r-- 1 nadiinchi U_HSE  17K Jul  4 10:24 Mcsr_w.npz\r\n",
      "-rw-r--r-- 1 nadiinchi U_HSE 858K Jul  4 10:24 M_w.npz\r\n"
     ]
    }
   ],
   "source": [
    "ls -lah | grep npz"
   ]
  },
  {
   "cell_type": "markdown",
   "metadata": {
    "collapsed": true
   },
   "source": [
    "### If you have time left\n",
    "* Implement Local Reparametrization Trick:\n",
    "    * type code in use_lrt section in LinearSVDO layer and\n",
    "    * choose use_lrt=True when creating a model\n",
    "* Implement _structured_ Bayesian sparsification (slides 105-108)\n",
    "* Compare SparseVD and ARD (slides 90-94) in terms of quality/compression ratio\n",
    "* Play with hyperparameters like KL weight and threshold"
   ]
  },
  {
   "cell_type": "code",
   "execution_count": null,
   "metadata": {
    "collapsed": true
   },
   "outputs": [],
   "source": []
  },
  {
   "cell_type": "code",
   "execution_count": null,
   "metadata": {
    "collapsed": true
   },
   "outputs": [],
   "source": []
  }
 ],
 "metadata": {
  "colab": {
   "collapsed_sections": [],
   "name": "Sparse-Variational-Dropout.ipynb",
   "provenance": [],
   "version": "0.3.2"
  },
  "kernelspec": {
   "display_name": "Python 3",
   "language": "python",
   "name": "python3"
  },
  "language_info": {
   "codemirror_mode": {
    "name": "ipython",
    "version": 3
   },
   "file_extension": ".py",
   "mimetype": "text/x-python",
   "name": "python",
   "nbconvert_exporter": "python",
   "pygments_lexer": "ipython3",
   "version": "3.6.3"
  }
 },
 "nbformat": 4,
 "nbformat_minor": 1
}
